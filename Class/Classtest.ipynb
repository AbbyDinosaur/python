{
 "cells": [
  {
   "cell_type": "code",
   "execution_count": 1,
   "metadata": {},
   "outputs": [
    {
     "name": "stdout",
     "output_type": "stream",
     "text": [
      "This Raptor is driving.....\n"
     ]
    }
   ],
   "source": [
    "class Car:\n",
    "    def __init__(self, model, year, color):\n",
    "        self.model = model\n",
    "        self.year = year \n",
    "        self.color = color\n",
    "        \n",
    "    def drive(self):\n",
    "        print(f\"This {self.model} is driving.....\")\n",
    "        \n",
    "car1 = Car(\"GTR R35\",2019,\"Black\")\n",
    "car2 = Car(\"Raptor\",2019,\"Black\")\n",
    "car2.drive()"
   ]
  },
  {
   "cell_type": "code",
   "execution_count": 2,
   "metadata": {},
   "outputs": [
    {
     "name": "stdout",
     "output_type": "stream",
     "text": [
      "This Raptor is driving.....\n"
     ]
    }
   ],
   "source": [
    "\"\"\" This file use for defined a blue print for `Car` object \"\"\"\n",
    "class Car:\n",
    "    #Contructor\n",
    "    company = \"\"\n",
    "    def __init__(self, model, year, color):\n",
    "        self.model = model\n",
    "        self.year = year \n",
    "        self.color = color\n",
    "        \n",
    "    def drive(self):\n",
    "        print(f\"This {self.model} is driving.....\")\n",
    "        \n",
    "\n",
    "if __name__ == '__main__':        \n",
    "    car1 = Car(\"GTR R35\",2019,\"Black\")\n",
    "    car2 = Car(\"Raptor\",2019,\"Black\")\n",
    "    car2.drive()"
   ]
  },
  {
   "cell_type": "code",
   "execution_count": 4,
   "metadata": {},
   "outputs": [],
   "source": [
    "class Employee:\n",
    "    def __init__(self, _id=None, name=None, gender=None, position=None, salary=None)->None:\n",
    "        self.id = _id\n",
    "        self.name = name\n",
    "        self.gender = gender\n",
    "        self.position = position\n",
    "        self.salary = salary\n",
    "        \n",
    "    def show_emp(self):\n",
    "        return f\"{self._id} {self.name} {self.gender} {self.position} {self.salary}\"\n",
    "    "
   ]
  },
  {
   "cell_type": "code",
   "execution_count": 9,
   "metadata": {},
   "outputs": [],
   "source": [
    "# from emp import Employee\n",
    "seller = Employee()\n",
    "# seller.input()\n",
    "# print(seller.show_emp())\n",
    "# "
   ]
  },
  {
   "cell_type": "code",
   "execution_count": 1,
   "metadata": {},
   "outputs": [],
   "source": [
    "class BankAccount:\n",
    "    def __init(self) -> None:\n",
    "        pass\n",
    "    \n",
    "def function() -> str: # p'jeak Datatype\n",
    "    pass\n"
   ]
  },
  {
   "cell_type": "code",
   "execution_count": 6,
   "metadata": {},
   "outputs": [
    {
     "name": "stdout",
     "output_type": "stream",
     "text": [
      " Client name Abby, and Balance = 1000000\n"
     ]
    }
   ],
   "source": [
    "class BankAccount:\n",
    "    def __init__(self, balance=None, client_name=None) -> None:# constructor\n",
    "        self.balance = balance\n",
    "        self.client_name = client_name\n",
    "        \n",
    "    def get_information(self) -> str:\n",
    "        return(f\" Client name {self.client_name}, and Balance = {self.balance}\")\n",
    "    \n",
    "# create object \n",
    "account = BankAccount(30000, \"Abby\")\n",
    "account.balance = 1000000\n",
    "print(account.get_information())"
   ]
  },
  {
   "cell_type": "code",
   "execution_count": 8,
   "metadata": {},
   "outputs": [
    {
     "name": "stdout",
     "output_type": "stream",
     "text": [
      " Client name Sreysros, and Balance = 30000\n"
     ]
    }
   ],
   "source": [
    "class BankAccount:\n",
    "    def __init__(self, balance=None, client_name=None) -> None:# constructor\n",
    "        self.__balance = balance #__ is private , _ is protected, no is public\n",
    "        self.client_name = client_name\n",
    "        \n",
    "    def get_information(self) -> str:\n",
    "        return(f\" Client name {self.client_name}, and Balance = {self.__balance}\")\n",
    "    \n",
    "# create object \n",
    "account = BankAccount(30000, \"Abby\")\n",
    "account.client_name = \"Sreysros\"\n",
    "account.balance = 1000000\n",
    "print(account.get_information())"
   ]
  },
  {
   "cell_type": "code",
   "execution_count": 11,
   "metadata": {},
   "outputs": [
    {
     "name": "stdout",
     "output_type": "stream",
     "text": [
      " Client name Sreysros, and Balance = 60000\n"
     ]
    }
   ],
   "source": [
    "class BankAccount:\n",
    "    def __init__(self, balance=None, client_name=None) -> None:# constructor\n",
    "        self.__balance = balance #__ is private , _ is protected, no is public\n",
    "        self.client_name = client_name\n",
    "        \n",
    "    def __deposit(self,amount):\n",
    "        self.__balance += amount\n",
    "        \n",
    "    def get_information(self) -> str:\n",
    "        return(f\" Client name {self.client_name}, and Balance = {self.__balance}\")\n",
    "    \n",
    "    def increase_balance(self,key, amount):\n",
    "        if key == \"@bankemp\":\n",
    "            self.__deposit(amount)\n",
    "    \n",
    "# create object \n",
    "account = BankAccount(30000, \"Abby\")\n",
    "account.client_name = \"Sreysros\"\n",
    "account.increase_balance(\"@bankemp\", 30000)\n",
    "print(account.get_information())"
   ]
  },
  {
   "cell_type": "code",
   "execution_count": null,
   "metadata": {},
   "outputs": [],
   "source": []
  }
 ],
 "metadata": {
  "kernelspec": {
   "display_name": "Python 3",
   "language": "python",
   "name": "python3"
  },
  "language_info": {
   "codemirror_mode": {
    "name": "ipython",
    "version": 3
   },
   "file_extension": ".py",
   "mimetype": "text/x-python",
   "name": "python",
   "nbconvert_exporter": "python",
   "pygments_lexer": "ipython3",
   "version": "3.11.9"
  }
 },
 "nbformat": 4,
 "nbformat_minor": 2
}
