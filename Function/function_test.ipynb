{
 "cells": [
  {
   "cell_type": "code",
   "execution_count": 5,
   "metadata": {},
   "outputs": [
    {
     "name": "stdout",
     "output_type": "stream",
     "text": [
      "My name is Abby\n"
     ]
    }
   ],
   "source": [
    "def greeting():\n",
    "    print(\"My name is Abby\")\n",
    "greeting()"
   ]
  },
  {
   "cell_type": "code",
   "execution_count": 14,
   "metadata": {},
   "outputs": [
    {
     "name": "stdout",
     "output_type": "stream",
     "text": [
      "\n",
      "    Summary\n",
      "    Use to add some doc for understand code\n",
      "    \n",
      "\n"
     ]
    }
   ],
   "source": [
    "\"\"\"\n",
    "    Summary\n",
    "    Use to add some doc for understand code\n",
    "    \n",
    "\"\"\"\n",
    "    \n",
    "print(__doc__)"
   ]
  },
  {
   "cell_type": "code",
   "execution_count": 9,
   "metadata": {},
   "outputs": [
    {
     "name": "stdout",
     "output_type": "stream",
     "text": [
      " 5.0 + 6.0 = 11.0 \n"
     ]
    }
   ],
   "source": [
    "def add():\n",
    "    x, y = float(input(\"Enter x: \")),float(input(\"Enter y:\"))\n",
    "    print (f\" {x} + {y} = {x+y} \")\n",
    "add()"
   ]
  },
  {
   "cell_type": "code",
   "execution_count": 15,
   "metadata": {},
   "outputs": [
    {
     "name": "stdout",
     "output_type": "stream",
     "text": [
      "9 + 5 = 4\n"
     ]
    }
   ],
   "source": [
    "def sub():\n",
    "    x, y = int(input(\"Enter x:\")), int(input(\"Enter y:\"))\n",
    "    print(f\"{x} - {y} = {x-y}\")\n",
    "sub()"
   ]
  },
  {
   "cell_type": "code",
   "execution_count": 16,
   "metadata": {},
   "outputs": [
    {
     "name": "stdout",
     "output_type": "stream",
     "text": [
      "10.0 * 2.0 = 20.0\n"
     ]
    }
   ],
   "source": [
    "def mul():\n",
    "    x, y = float(input(\"Enter x:\")), float(input(\"Enter y:\"))\n",
    "    print(f\"{x} * {y} = {x*y}\")\n",
    "mul()"
   ]
  },
  {
   "cell_type": "code",
   "execution_count": 17,
   "metadata": {},
   "outputs": [
    {
     "name": "stdout",
     "output_type": "stream",
     "text": [
      "80 / 5 = 16.0\n"
     ]
    }
   ],
   "source": [
    "def div():\n",
    "    a, b = int(input(\"Enter a:\")), int(input(\"Enter b:\"))\n",
    "    print(f\"{a} / {b} = {a/b}\")\n",
    "div()"
   ]
  },
  {
   "cell_type": "code",
   "execution_count": 29,
   "metadata": {},
   "outputs": [
    {
     "name": "stdout",
     "output_type": "stream",
     "text": [
      "5 // 2 = 2\n"
     ]
    }
   ],
   "source": [
    "def floor():\n",
    "    a, b = int(input(\"Enter a:\")), int(input(\"Enter b:\"))\n",
    "    print(f\"{a} // {b} = {a//b}\")\n",
    "floor()"
   ]
  },
  {
   "cell_type": "code",
   "execution_count": 27,
   "metadata": {},
   "outputs": [
    {
     "name": "stdout",
     "output_type": "stream",
     "text": [
      "5 ** 2 = 25\n"
     ]
    }
   ],
   "source": [
    "def expo():\n",
    "    a, b = int(input(\"Enter a:\")), int(input(\"Enter b:\"))\n",
    "    print(f\"{a} ** {b} = {a**b}\")\n",
    "expo()"
   ]
  },
  {
   "cell_type": "code",
   "execution_count": 28,
   "metadata": {},
   "outputs": [
    {
     "name": "stdout",
     "output_type": "stream",
     "text": [
      "5 % 2 = 1\n"
     ]
    }
   ],
   "source": [
    "def moduless():\n",
    "    a, b = int(input(\"Enter a:\")), int(input(\"Enter b:\"))\n",
    "    print(f\"{a} % {b} = {a%b}\")\n",
    "moduless()"
   ]
  },
  {
   "cell_type": "code",
   "execution_count": null,
   "metadata": {},
   "outputs": [],
   "source": []
  }
 ],
 "metadata": {
  "kernelspec": {
   "display_name": "Python 3",
   "language": "python",
   "name": "python3"
  },
  "language_info": {
   "codemirror_mode": {
    "name": "ipython",
    "version": 3
   },
   "file_extension": ".py",
   "mimetype": "text/x-python",
   "name": "python",
   "nbconvert_exporter": "python",
   "pygments_lexer": "ipython3",
   "version": "3.12.4"
  }
 },
 "nbformat": 4,
 "nbformat_minor": 2
}
