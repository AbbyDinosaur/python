{
 "cells": [
  {
   "cell_type": "code",
   "execution_count": 1,
   "metadata": {},
   "outputs": [
    {
     "name": "stdout",
     "output_type": "stream",
     "text": [
      "110\n"
     ]
    }
   ],
   "source": [
    "def add(a,b,c):\n",
    "    result = a + b + c\n",
    "    return result\n",
    "\n",
    "a = add\n",
    "print(a(20,40,50))"
   ]
  },
  {
   "cell_type": "code",
   "execution_count": 2,
   "metadata": {},
   "outputs": [
    {
     "name": "stdout",
     "output_type": "stream",
     "text": [
      "100\n"
     ]
    }
   ],
   "source": [
    "def add( a,b):\n",
    "    return a+b\n",
    "\n",
    "c = add(add(30,20),50)\n",
    "print (c)"
   ]
  },
  {
   "cell_type": "code",
   "execution_count": 3,
   "metadata": {},
   "outputs": [
    {
     "name": "stdout",
     "output_type": "stream",
     "text": [
      "353\n"
     ]
    }
   ],
   "source": [
    "def add( a,b):\n",
    "    return a+b\n",
    "\n",
    "c = add(add(30,20), add(add(100,200), add(1,2)))\n",
    "print (c)"
   ]
  },
  {
   "cell_type": "code",
   "execution_count": 4,
   "metadata": {},
   "outputs": [
    {
     "name": "stdout",
     "output_type": "stream",
     "text": [
      "331776\n"
     ]
    }
   ],
   "source": [
    "def pow(x,y):\n",
    "    return x**y\n",
    "\n",
    "def mul(a, b):\n",
    "    return pow(a,2) * pow(b,2)\n",
    "\n",
    "c = mul(mul(1,3), pow(4,3))\n",
    "print (c)"
   ]
  },
  {
   "cell_type": "code",
   "execution_count": 8,
   "metadata": {},
   "outputs": [
    {
     "name": "stdout",
     "output_type": "stream",
     "text": [
      "[500.6, 600]\n"
     ]
    }
   ],
   "source": [
    "def function():\n",
    "    x=500.6\n",
    "    y=600\n",
    "    return [x,y]\n",
    "\n",
    "# print(function()[0])\n",
    "print(function())"
   ]
  },
  {
   "cell_type": "code",
   "execution_count": 10,
   "metadata": {},
   "outputs": [
    {
     "name": "stdout",
     "output_type": "stream",
     "text": [
      " This is global variable inside functionThis is global variable\n",
      " This is global variable outside functionThis is global variable\n"
     ]
    }
   ],
   "source": [
    "# Global Variable\n",
    "_global = \"This is global variable\"\n",
    "\n",
    "def function():\n",
    "    print(f\" This is global variable inside function{_global}\") \n",
    "    \n",
    "function()\n",
    "\n",
    "print(f\" This is global variable outside function{_global}\") "
   ]
  },
  {
   "cell_type": "code",
   "execution_count": 11,
   "metadata": {},
   "outputs": [
    {
     "name": "stdout",
     "output_type": "stream",
     "text": [
      "This is inner function\n"
     ]
    }
   ],
   "source": [
    "def outer_function():\n",
    "    def inner_function():\n",
    "        print(\"This is inner function\")\n",
    "        \n",
    "    inner_function()\n",
    "    \n",
    "outer_function()"
   ]
  },
  {
   "cell_type": "code",
   "execution_count": 12,
   "metadata": {},
   "outputs": [
    {
     "name": "stdout",
     "output_type": "stream",
     "text": [
      "This is function2(☞ﾟヮﾟ)☞\n",
      "This is inner function\n"
     ]
    }
   ],
   "source": [
    "def outer_function():\n",
    "    def inner_function():\n",
    "        print(\"This is inner function\")\n",
    "        \n",
    "    def function2():\n",
    "        print(\"This is function2(☞ﾟヮﾟ)☞\")\n",
    "        \n",
    "    function2()\n",
    "    inner_function()\n",
    "    \n",
    "outer_function()"
   ]
  },
  {
   "cell_type": "code",
   "execution_count": 15,
   "metadata": {},
   "outputs": [
    {
     "name": "stdout",
     "output_type": "stream",
     "text": [
      "x inside = 20\n",
      "x outside 10\n"
     ]
    }
   ],
   "source": [
    "x = 10\n",
    "def function():\n",
    "    x = 20\n",
    "    print(f\"x inside = {x}\")\n",
    "    \n",
    "function()\n",
    "print(f\"x outside = {x}\")"
   ]
  },
  {
   "cell_type": "code",
   "execution_count": 18,
   "metadata": {},
   "outputs": [
    {
     "name": "stdout",
     "output_type": "stream",
     "text": [
      "x inside = 20\n",
      "x outside = 20\n"
     ]
    }
   ],
   "source": [
    "x = 10\n",
    "def function():\n",
    "    global x\n",
    "    x = 20\n",
    "    print(f\"x inside = {x}\")\n",
    "    \n",
    "function()\n",
    "print(f\"x outside = {x}\")"
   ]
  },
  {
   "cell_type": "code",
   "execution_count": 20,
   "metadata": {},
   "outputs": [
    {
     "name": "stdout",
     "output_type": "stream",
     "text": [
      "Error value type\n"
     ]
    }
   ],
   "source": []
  },
  {
   "cell_type": "code",
   "execution_count": null,
   "metadata": {},
   "outputs": [],
   "source": []
  }
 ],
 "metadata": {
  "kernelspec": {
   "display_name": "Python 3",
   "language": "python",
   "name": "python3"
  },
  "language_info": {
   "codemirror_mode": {
    "name": "ipython",
    "version": 3
   },
   "file_extension": ".py",
   "mimetype": "text/x-python",
   "name": "python",
   "nbconvert_exporter": "python",
   "pygments_lexer": "ipython3",
   "version": "3.12.4"
  }
 },
 "nbformat": 4,
 "nbformat_minor": 2
}
