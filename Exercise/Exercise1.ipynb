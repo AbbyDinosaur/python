{
 "cells": [
  {
   "cell_type": "code",
   "execution_count": 4,
   "metadata": {},
   "outputs": [
    {
     "name": "stdout",
     "output_type": "stream",
     "text": [
      "Start Year : 1950\n",
      "End Year : 2000\n",
      "Leap Year : [1952, 1956, 1960, 1964, 1968, 1972, 1976, 1980, 1984, 1988, 1992, 1996, 2000]\n"
     ]
    }
   ],
   "source": [
    "leap_year=[]\n",
    "\n",
    "start_year = int(input(\"Enter Year Start :\"))\n",
    "end_year = int(input(\"Enter Year End\"))\n",
    "\n",
    "for year in range (start_year, end_year+1):\n",
    "    if( year % 400 == 0 ) or (year % 4 == 0 and year % 100 != 0):\n",
    "        leap_year.append(year)\n",
    "\n",
    "print(f\"Start Year : {start_year}\")\n",
    "print(f\"End Year : {end_year}\")\n",
    "print(f\"Leap Year : {leap_year}\")"
   ]
  },
  {
   "cell_type": "code",
   "execution_count": 18,
   "metadata": {},
   "outputs": [
    {
     "name": "stdout",
     "output_type": "stream",
     "text": [
      "30\n",
      "3125\n",
      "False\n",
      "100.0\n"
     ]
    }
   ],
   "source": [
    "add = lambda x: x+10\n",
    "\n",
    "print(add(20))\n",
    "\n",
    "expo = lambda x: x**x\n",
    "print(expo(5))\n",
    "\n",
    "is_event = lambda a: a % 2 == 0\n",
    "print(is_event(3))\n",
    "\n",
    "area = lambda b,h: b * h / 2\n",
    "print(area(10,20))"
   ]
  },
  {
   "cell_type": "code",
   "execution_count": 25,
   "metadata": {},
   "outputs": [
    {
     "name": "stdout",
     "output_type": "stream",
     "text": [
      "['Chan', 'Chen']\n"
     ]
    }
   ],
   "source": [
    "my_list = ['Veasna','Hong','Dalin','Vichet','Chan','Heng','Chen']\n",
    "\n",
    "search = input(\"Enter name:\")\n",
    "\n",
    "result = [name for name in my_list if name.lower().startswith(search.lower())]\n",
    "\n",
    "print(result)\n",
    "\n"
   ]
  },
  {
   "cell_type": "code",
   "execution_count": 1,
   "metadata": {},
   "outputs": [
    {
     "name": "stdout",
     "output_type": "stream",
     "text": [
      "1\n",
      "12\n",
      "123\n",
      "1234\n",
      "12345\n"
     ]
    }
   ],
   "source": [
    "n = 5 \n",
    "for i in range(1, n+1):\n",
    "    for j in range(1, i+1):\n",
    "        print(j, end=\"\")\n",
    "    print()"
   ]
  },
  {
   "cell_type": "code",
   "execution_count": 2,
   "metadata": {},
   "outputs": [
    {
     "name": "stdout",
     "output_type": "stream",
     "text": [
      "1\n",
      "12\n",
      "123\n",
      "1234\n",
      "12345\n",
      "123456\n",
      "1234567\n",
      "12345678\n",
      "123456789\n"
     ]
    }
   ],
   "source": [
    "n = 9 \n",
    "for i in range (1, n+1):\n",
    "    print(''*(n - 1), end=\"\")\n",
    "    for j in range (1, i+1):\n",
    "        print(j, end=\"\")\n",
    "    print()"
   ]
  },
  {
   "cell_type": "code",
   "execution_count": 3,
   "metadata": {},
   "outputs": [
    {
     "name": "stdout",
     "output_type": "stream",
     "text": [
      "1 2 3 4 5 \n",
      "1 2 3 4 \n",
      "1 2 3 \n",
      "1 2 \n",
      "1 \n"
     ]
    }
   ],
   "source": [
    "n = 5 \n",
    "for i in range(1, n+1):\n",
    "    for j in range(1, n+2-i):\n",
    "        print(j, end=\" \")\n",
    "    print()"
   ]
  },
  {
   "cell_type": "code",
   "execution_count": 5,
   "metadata": {},
   "outputs": [
    {
     "name": "stdout",
     "output_type": "stream",
     "text": [
      "    1\n",
      "   121\n",
      "  12321\n",
      " 1234321\n",
      "123454321\n"
     ]
    }
   ],
   "source": [
    "n = 5 \n",
    "for i in range (1,n+1):\n",
    "    print(' '*(n - i), end=\"\")\n",
    "    for j in range(1, i+1):\n",
    "        print(j,end=\"\")\n",
    "        \n",
    "    for j in range (i-1,0,-1):\n",
    "        print(j, end=\"\")\n",
    "    print()\n",
    "    "
   ]
  },
  {
   "cell_type": "code",
   "execution_count": 2,
   "metadata": {},
   "outputs": [
    {
     "name": "stdout",
     "output_type": "stream",
     "text": [
      "234765098\n"
     ]
    }
   ],
   "source": [
    "c = 890567432\n",
    "result = int(str(c)[::-1])\n",
    "print(result)"
   ]
  },
  {
   "cell_type": "code",
   "execution_count": 5,
   "metadata": {},
   "outputs": [
    {
     "name": "stdout",
     "output_type": "stream",
     "text": [
      "652\n"
     ]
    }
   ],
   "source": [
    "c = int(input(\"Enter a number: \"))\n",
    "reverse = 0\n",
    "\n",
    "while c > 0:\n",
    "    digit = c % 10  # Get the last digit\n",
    "    reverse = reverse * 10 + digit  # Shift the reverse number left and add the digit\n",
    "    c = c // 10  # Remove the last digit from the original number\n",
    "\n",
    "print(reverse)"
   ]
  },
  {
   "cell_type": "code",
   "execution_count": 6,
   "metadata": {},
   "outputs": [
    {
     "name": "stdout",
     "output_type": "stream",
     "text": [
      "-24\n"
     ]
    }
   ],
   "source": [
    "print(eval(input(\"::\")))"
   ]
  },
  {
   "cell_type": "code",
   "execution_count": 34,
   "metadata": {},
   "outputs": [
    {
     "name": "stdout",
     "output_type": "stream",
     "text": [
      " 1. The Python class : [1001, 404, 6006]\n",
      " 2. The CPP class : [100, 502, 804]\n",
      " 3. The Java class : [101]\n",
      " 4. The Python and CPP class : [202]\n",
      " 5. The Java and CPP class : [202, 303]\n",
      " 6. The Python and Java class : [202, 3003]\n",
      " 7. The All class : [202]\n"
     ]
    }
   ],
   "source": [
    "_python_class = [1001,202,3003,6006,404]\n",
    "_cpp_class = [202,100,804,502,303]\n",
    "_java_class = [3003,202,101,303]\n",
    "\n",
    "python_class = set(_python_class)\n",
    "cpp_class = set(_cpp_class)\n",
    "java_class = set(_java_class)\n",
    "\n",
    "python_only = list(python_class.difference(cpp_class,java_class))\n",
    "print(f\" 1. The Python class : {python_only}\")\n",
    "\n",
    "cpp_only = list(cpp_class.difference(python_class,java_class))\n",
    "print(f\" 2. The CPP class : {cpp_only}\")\n",
    "\n",
    "java_only = list(java_class.difference(python_class,cpp_class))\n",
    "print(f\" 3. The Java class : {java_only}\")\n",
    "\n",
    "\n",
    "python_and_cpp = list(python_class & cpp_class)\n",
    "print(f\" 4. The Python and CPP class : {python_and_cpp}\")\n",
    "\n",
    "cpp_and_java = list(cpp_class & java_class)\n",
    "print(f\" 5. The Java and CPP class : {cpp_and_java}\")\n",
    "\n",
    "python_and_java = list(python_class & java_class)\n",
    "print(f\" 6. The Python and Java class : {python_and_java}\")\n",
    "\n",
    "all_class = list(python_class & cpp_class & java_class)\n",
    "print(f\" 7. The All class : {all_class}\")\n",
    "\n",
    "\n"
   ]
  },
  {
   "cell_type": "code",
   "execution_count": 1,
   "metadata": {},
   "outputs": [
    {
     "name": "stdout",
     "output_type": "stream",
     "text": [
      "False\n"
     ]
    }
   ],
   "source": [
    "a = 300 \n",
    "b = 300\n",
    "print(a is b) "
   ]
  },
  {
   "cell_type": "code",
   "execution_count": null,
   "metadata": {},
   "outputs": [],
   "source": []
  }
 ],
 "metadata": {
  "kernelspec": {
   "display_name": "Python 3",
   "language": "python",
   "name": "python3"
  },
  "language_info": {
   "codemirror_mode": {
    "name": "ipython",
    "version": 3
   },
   "file_extension": ".py",
   "mimetype": "text/x-python",
   "name": "python",
   "nbconvert_exporter": "python",
   "pygments_lexer": "ipython3",
   "version": "3.11.9"
  }
 },
 "nbformat": 4,
 "nbformat_minor": 2
}
