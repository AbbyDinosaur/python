{
 "cells": [
  {
   "cell_type": "code",
   "execution_count": 6,
   "metadata": {},
   "outputs": [
    {
     "name": "stdout",
     "output_type": "stream",
     "text": [
      "(1, 2, 3, 4, 5)\n"
     ]
    }
   ],
   "source": [
    "person = {\n",
    "    (1,2) : (1,2,3,4,5),\n",
    "    'id' : 1001,\n",
    "    'name' : 'Abby',\n",
    "    'age' : 21,\n",
    "    'gender' : 'female',\n",
    "    'address' : 'PhnomPenh'\n",
    "}\n",
    "\n",
    "# print(person)\n",
    "\n",
    "# print(person['id'])\n",
    "# print(person['name'])\n",
    "# print(person['age'])\n",
    "# print(person['gender'])\n",
    "# print(person['address'])\n",
    "\n",
    "print(person[(1,2)])"
   ]
  },
  {
   "cell_type": "code",
   "execution_count": 7,
   "metadata": {},
   "outputs": [],
   "source": [
    "person = {\n",
    "    (1234,'my_key') : (1,2,3,4,5),\n",
    "    'id' : 1001,\n",
    "    'name' : 'Abby',\n",
    "    'age' : 21,\n",
    "    'gender' : 'female',\n",
    "    'address' : 'PhnomPenh'\n",
    "}\n",
    "\n",
    "first_key = int(input(\"Enter first key: \"))\n",
    "second_key = input(\"Enter second key:\")\n"
   ]
  },
  {
   "cell_type": "code",
   "execution_count": 51,
   "metadata": {},
   "outputs": [
    {
     "name": "stdout",
     "output_type": "stream",
     "text": [
      "\n",
      "      ========================================================================================\n",
      "      |     Product id = 1                                                                   |\n",
      "      |     Product Name = Foldsack No. 1 Backpack                                           |\n",
      "      |     Product Price = 109.95                                                           |\n",
      "      |     Product Description = Your perfect pack for everyday use and walks in the forest.|\n",
      "      |     Product Category = men's clothing                                                |\n",
      "      |     Product Image = https://fakestoreapi.com/img/81fPKd-2AYL._AC_SL1500_.jpg         |\n",
      "      |     Product rate = 3.9                                                               |\n",
      "     ========================================================================================\n",
      "      \n"
     ]
    }
   ],
   "source": [
    "product = {\n",
    "    \"id\": 1,\n",
    "    \"title\": \"Foldsack No. 1 Backpack\",\n",
    "    \"price\": 109.95,\n",
    "    \"des\": \"Your perfect pack for everyday use and walks in the forest.\",\n",
    "    \"category\": \"men's clothing\",\n",
    "    \"image\": \"https://fakestoreapi.com/img/81fPKd-2AYL._AC_SL1500_.jpg\",\n",
    "    \"rating\": {\n",
    "      \"rate\": 3.9,\n",
    "      \"count\": 120\n",
    "    }\n",
    "}\n",
    "# print(product)\n",
    "# print(product['rating']['rate'])\n",
    "print(f\"\"\"\n",
    "      ========================================================================================\n",
    "      |     Product id = {product['id']}                                                                   |\n",
    "      |     Product Name = {product['title']}                                           |\n",
    "      |     Product Price = {product['price']}                                                           |\n",
    "      |     Product Description = {product['des']}|\n",
    "      |     Product Category = {product['category']}                                                |\n",
    "      |     Product Image = {product['image']}         |\n",
    "      |     Product rate = {product['rating']['rate']}                                                               |\n",
    "     ========================================================================================\n",
    "      \"\"\")"
   ]
  },
  {
   "cell_type": "code",
   "execution_count": null,
   "metadata": {},
   "outputs": [],
   "source": []
  }
 ],
 "metadata": {
  "kernelspec": {
   "display_name": "Python 3",
   "language": "python",
   "name": "python3"
  },
  "language_info": {
   "codemirror_mode": {
    "name": "ipython",
    "version": 3
   },
   "file_extension": ".py",
   "mimetype": "text/x-python",
   "name": "python",
   "nbconvert_exporter": "python",
   "pygments_lexer": "ipython3",
   "version": "3.12.4"
  }
 },
 "nbformat": 4,
 "nbformat_minor": 2
}
