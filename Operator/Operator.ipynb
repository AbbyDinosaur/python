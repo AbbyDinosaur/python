{
 "cells": [
  {
   "cell_type": "code",
   "execution_count": 8,
   "metadata": {},
   "outputs": [
    {
     "name": "stdout",
     "output_type": "stream",
     "text": [
      "a += 300 =500\n"
     ]
    }
   ],
   "source": [
    "# ========== Assignment Operator=========\n",
    "a = 200\n",
    "a += 300\n",
    "# print(a, end=\"*\")\n",
    "# print(\"Hello World\")\n",
    "print(f\"a += 300 ={a}\")"
   ]
  },
  {
   "cell_type": "code",
   "execution_count": 9,
   "metadata": {},
   "outputs": [
    {
     "name": "stdout",
     "output_type": "stream",
     "text": [
      "b -= 120 = 180\n"
     ]
    }
   ],
   "source": [
    "b = 300\n",
    "b -= 120 \n",
    "print(f\"b -= 120 = {b}\")"
   ]
  },
  {
   "cell_type": "code",
   "execution_count": 10,
   "metadata": {},
   "outputs": [
    {
     "name": "stdout",
     "output_type": "stream",
     "text": [
      "c *= 5 =50\n"
     ]
    }
   ],
   "source": [
    "c = 10\n",
    "c *= 5\n",
    "print(f\"c *= 5 ={c}\")"
   ]
  },
  {
   "cell_type": "code",
   "execution_count": 11,
   "metadata": {},
   "outputs": [
    {
     "name": "stdout",
     "output_type": "stream",
     "text": [
      "d /= 30 = 13.333333333333334\n"
     ]
    }
   ],
   "source": [
    "d = 400\n",
    "d /= 30\n",
    "print(f\"d /= 30 = {d}\")"
   ]
  },
  {
   "cell_type": "code",
   "execution_count": 15,
   "metadata": {},
   "outputs": [
    {
     "name": "stdout",
     "output_type": "stream",
     "text": [
      "e **= 5 =32\n"
     ]
    }
   ],
   "source": [
    "e = 2\n",
    "e **= 5\n",
    "print(f\"e **= 5 ={e}\")"
   ]
  },
  {
   "cell_type": "code",
   "execution_count": 12,
   "metadata": {},
   "outputs": [
    {
     "name": "stdout",
     "output_type": "stream",
     "text": [
      "z %= 3 = 2\n"
     ]
    }
   ],
   "source": [
    "z = 50\n",
    "z %= 3\n",
    "print(f\"z %= 3 = {z}\")"
   ]
  },
  {
   "cell_type": "code",
   "execution_count": 14,
   "metadata": {},
   "outputs": [
    {
     "name": "stdout",
     "output_type": "stream",
     "text": [
      "f //= 3 = 134\n"
     ]
    }
   ],
   "source": [
    "f = 404\n",
    "f //= 3\n",
    "print(f\"f //= 3 = {f}\")"
   ]
  },
  {
   "cell_type": "code",
   "execution_count": 1,
   "metadata": {},
   "outputs": [
    {
     "name": "stdout",
     "output_type": "stream",
     "text": [
      "=> is equal to `==` \n",
      "5==5 is True\n",
      "4==2 is False\n"
     ]
    }
   ],
   "source": [
    "# =========== Comparation Opertor ========\n",
    "print(\"=> is equal to `==` \")\n",
    "print(f\"5==5 is {5==5}\")\n",
    "print(f\"4==2 is {4==2}\")"
   ]
  },
  {
   "cell_type": "code",
   "execution_count": 3,
   "metadata": {},
   "outputs": [
    {
     "name": "stdout",
     "output_type": "stream",
     "text": [
      "True\n",
      "False\n"
     ]
    }
   ],
   "source": [
    "print(5==5 and 4 > 2)\n",
    "print(4 > 10 and 4 < 5)"
   ]
  },
  {
   "cell_type": "code",
   "execution_count": 8,
   "metadata": {},
   "outputs": [
    {
     "name": "stdout",
     "output_type": "stream",
     "text": [
      "False\n"
     ]
    }
   ],
   "source": [
    "# x = 10  and 20\n",
    "# x = 10  and \"Hello World\"\n",
    "# x = 0 and \"Hello World\"\n",
    "x = False and \"Hello World\"\n",
    "print(x)"
   ]
  },
  {
   "cell_type": "code",
   "execution_count": 10,
   "metadata": {},
   "outputs": [
    {
     "name": "stdout",
     "output_type": "stream",
     "text": [
      "<class 'NoneType'>\n",
      "None\n"
     ]
    }
   ],
   "source": [
    "p = None\n",
    "print(type(p))\n",
    "a = None and \"Hello\"\n",
    "print(a)"
   ]
  },
  {
   "cell_type": "code",
   "execution_count": 12,
   "metadata": {},
   "outputs": [
    {
     "name": "stdout",
     "output_type": "stream",
     "text": [
      "False\n",
      "True\n"
     ]
    }
   ],
   "source": [
    "a = True and True and \"False\"\n",
    "print(a)\n",
    "b = \"False\" and True and \"True\"\n",
    "print (b)"
   ]
  },
  {
   "cell_type": "code",
   "execution_count": null,
   "metadata": {},
   "outputs": [],
   "source": []
  }
 ],
 "metadata": {
  "kernelspec": {
   "display_name": "Python 3",
   "language": "python",
   "name": "python3"
  },
  "language_info": {
   "codemirror_mode": {
    "name": "ipython",
    "version": 3
   },
   "file_extension": ".py",
   "mimetype": "text/x-python",
   "name": "python",
   "nbconvert_exporter": "python",
   "pygments_lexer": "ipython3",
   "version": "3.12.4"
  }
 },
 "nbformat": 4,
 "nbformat_minor": 2
}
