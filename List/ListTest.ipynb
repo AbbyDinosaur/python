{
 "cells": [
  {
   "cell_type": "code",
   "execution_count": 10,
   "metadata": {},
   "outputs": [
    {
     "name": "stdout",
     "output_type": "stream",
     "text": [
      "[10, 20, 30, 40, 50]\n",
      "<class 'list'>\n",
      "50\n",
      "10\n",
      "20\n",
      "30\n",
      "40\n",
      "50\n",
      "====================================\n",
      "10\n",
      "20\n",
      "30\n",
      "40\n",
      "50\n"
     ]
    }
   ],
   "source": [
    "number = [10, 20, 30, 40, 50]\n",
    "\n",
    "print(number)\n",
    "print(type(number))\n",
    "\n",
    "print(number[4])\n",
    "\n",
    "for i in number:\n",
    "    print(i)\n",
    "print(\"====================================\")\n",
    "for i in range(len(number)):\n",
    "    print(number[i])"
   ]
  },
  {
   "cell_type": "code",
   "execution_count": 1,
   "metadata": {},
   "outputs": [
    {
     "name": "stdout",
     "output_type": "stream",
     "text": [
      "True\n"
     ]
    }
   ],
   "source": [
    "number = [10, 20, 30, 40, 50, 60]\n",
    "new_list = number\n",
    "print(new_list is number)"
   ]
  },
  {
   "cell_type": "code",
   "execution_count": 2,
   "metadata": {},
   "outputs": [
    {
     "name": "stdout",
     "output_type": "stream",
     "text": [
      "False\n"
     ]
    }
   ],
   "source": [
    "number = [10, 20, 30, 40, 50, 60]\n",
    "new_list = [10, 20, 30, 40, 50, 60]\n",
    "print(new_list is number)"
   ]
  },
  {
   "cell_type": "code",
   "execution_count": 5,
   "metadata": {},
   "outputs": [
    {
     "name": "stdout",
     "output_type": "stream",
     "text": [
      "[10, 20, 30, 40, 5000, 60]\n"
     ]
    }
   ],
   "source": [
    "#Shallow copy\n",
    "number = [10, 20, 30, 40, 50, 60]\n",
    "new_list = number\n",
    "# new_list[-2] = 500\n",
    "new_list[4] = 5000\n",
    "print(number)"
   ]
  },
  {
   "cell_type": "code",
   "execution_count": 10,
   "metadata": {},
   "outputs": [
    {
     "name": "stdout",
     "output_type": "stream",
     "text": [
      "[10, 20, 30, 40, 50, 60]\n",
      "[10, 5000, 30, 40, 50, 60]\n"
     ]
    }
   ],
   "source": [
    "#Deep Copy\n",
    "import copy\n",
    "\n",
    "number = [10, 20, 30, 40, 50, 60]\n",
    "new_list = number.copy()\n",
    "new_list[1] = 5000\n",
    "print(number)\n",
    "print(new_list)"
   ]
  },
  {
   "cell_type": "code",
   "execution_count": 11,
   "metadata": {},
   "outputs": [
    {
     "name": "stdout",
     "output_type": "stream",
     "text": [
      "[2, 5, 21, 23, 32, 45]\n"
     ]
    }
   ],
   "source": [
    "number = [23, 45, 21, 2, 5, 32]\n",
    "number.sort()\n",
    "\n",
    "print(number)"
   ]
  },
  {
   "cell_type": "code",
   "execution_count": 14,
   "metadata": {},
   "outputs": [
    {
     "name": "stdout",
     "output_type": "stream",
     "text": [
      "[50, 60]\n"
     ]
    }
   ],
   "source": [
    "# SLide list cut number we want it list\n",
    "number = [10, 20, 30, 40, 50, 60]\n",
    "new_list = number [1:4] # [Start : End -1]\n",
    "new_list = number [4:] \n",
    "print(new_list)"
   ]
  },
  {
   "cell_type": "code",
   "execution_count": 18,
   "metadata": {},
   "outputs": [
    {
     "name": "stdout",
     "output_type": "stream",
     "text": [
      "[60, 30]\n"
     ]
    }
   ],
   "source": [
    "# SLide reverse\n",
    "number = [10, 20, 30, 40, 50, 60]\n",
    "# new_list = number[::-1]\n",
    "# new_list = number[::-2]\n",
    "new_list = number[::-3]\n",
    "print(new_list)"
   ]
  },
  {
   "cell_type": "code",
   "execution_count": 21,
   "metadata": {},
   "outputs": [
    {
     "name": "stdout",
     "output_type": "stream",
     "text": [
      ".ybbA si emaN yM , olleH\n"
     ]
    }
   ],
   "source": [
    "s = \"Hello , My Name is Abby.\"\n",
    "s = s[::-1]\n",
    "# s = s[::-2]\n",
    "print(s)"
   ]
  },
  {
   "cell_type": "code",
   "execution_count": 1,
   "metadata": {},
   "outputs": [
    {
     "name": "stdout",
     "output_type": "stream",
     "text": [
      "2\n"
     ]
    }
   ],
   "source": [
    "apple = ['A','P','P','L','E']\n",
    "x = apple.count('P')\n",
    "print(x)"
   ]
  },
  {
   "cell_type": "code",
   "execution_count": 1,
   "metadata": {},
   "outputs": [
    {
     "name": "stdout",
     "output_type": "stream",
     "text": [
      "2\n"
     ]
    }
   ],
   "source": [
    "list_num=[1,3,5,7,8,6,2,9,3]\n",
    "y=list_num.count(3)\n",
    "print(y)"
   ]
  },
  {
   "cell_type": "code",
   "execution_count": 2,
   "metadata": {},
   "outputs": [
    {
     "name": "stdout",
     "output_type": "stream",
     "text": [
      "8\n"
     ]
    }
   ],
   "source": [
    "number=[1,2,3,4,5,6,7,7]\n",
    "print(len(number))"
   ]
  },
  {
   "cell_type": "code",
   "execution_count": 3,
   "metadata": {},
   "outputs": [
    {
     "name": "stdout",
     "output_type": "stream",
     "text": [
      "1\n"
     ]
    }
   ],
   "source": [
    "num=[1,2,3,4,5,6]\n",
    "print(num.index(2))"
   ]
  },
  {
   "cell_type": "code",
   "execution_count": 4,
   "metadata": {},
   "outputs": [
    {
     "name": "stdout",
     "output_type": "stream",
     "text": [
      "2\n"
     ]
    }
   ],
   "source": [
    "f=['O','R','A','N','G','E']\n",
    "print(f.index('A'))"
   ]
  },
  {
   "cell_type": "code",
   "execution_count": 5,
   "metadata": {},
   "outputs": [
    {
     "name": "stdout",
     "output_type": "stream",
     "text": [
      "[1, 3, 5, 7, 9]\n"
     ]
    }
   ],
   "source": [
    "even_numbers=[]\n",
    "for i in range(1, 11):\n",
    "    if i % 2 != 0:\n",
    "        even_numbers.append(i)\n",
    "        \n",
    "print(even_numbers)"
   ]
  },
  {
   "cell_type": "code",
   "execution_count": 6,
   "metadata": {},
   "outputs": [
    {
     "name": "stdout",
     "output_type": "stream",
     "text": [
      "[2004, 2008, 2012, 2016, 2020, 2024, 2028, 2032, 2036, 2040, 2044, 2048, 2052, 2056, 2060, 2064, 2068, 2072, 2076, 2080, 2084, 2088, 2092, 2096]\n"
     ]
    }
   ],
   "source": [
    "leap_years=[]\n",
    "\n",
    "start_year=int(input(\"Enter start year: \"))\n",
    "end_year=int(input(\"Enter end year: \"))\n",
    "\n",
    "for year in range (start_year, end_year+1):\n",
    "    if(year % 400 == 0) or (year % 4 == 0 and year % 100 != 0):\n",
    "        leap_years.append(year)\n",
    "        \n",
    "print(leap_years)"
   ]
  }
 ],
 "metadata": {
  "kernelspec": {
   "display_name": "Python 3",
   "language": "python",
   "name": "python3"
  },
  "language_info": {
   "codemirror_mode": {
    "name": "ipython",
    "version": 3
   },
   "file_extension": ".py",
   "mimetype": "text/x-python",
   "name": "python",
   "nbconvert_exporter": "python",
   "pygments_lexer": "ipython3",
   "version": "3.12.4"
  }
 },
 "nbformat": 4,
 "nbformat_minor": 2
}
