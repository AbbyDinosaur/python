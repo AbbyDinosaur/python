{
 "cells": [
  {
   "cell_type": "code",
   "execution_count": 1,
   "metadata": {},
   "outputs": [
    {
     "name": "stdout",
     "output_type": "stream",
     "text": [
      "1\n",
      "2\n",
      "3\n",
      "4\n",
      "5\n",
      "6\n",
      "7\n",
      "8\n",
      "9\n",
      "10\n"
     ]
    }
   ],
   "source": [
    "counter = 1\n",
    "while counter <=10:\n",
    "    print(counter)\n",
    "    counter = counter+1"
   ]
  },
  {
   "cell_type": "code",
   "execution_count": 3,
   "metadata": {},
   "outputs": [
    {
     "name": "stdout",
     "output_type": "stream",
     "text": [
      "1 2 3 4 5 6 7 8 9 10 "
     ]
    }
   ],
   "source": [
    "counter = 1\n",
    "while counter <=10:\n",
    "    print(counter,end=\" \")\n",
    "    counter+=1"
   ]
  },
  {
   "cell_type": "code",
   "execution_count": 4,
   "metadata": {},
   "outputs": [
    {
     "name": "stdout",
     "output_type": "stream",
     "text": [
      "6\n",
      "30\n",
      "120\n",
      "360\n",
      "720\n",
      "720\n"
     ]
    }
   ],
   "source": [
    "factoral =1\n",
    "n=6\n",
    "while n>=1:\n",
    "    factoral = factoral*n\n",
    "    n=n-1\n",
    "    print(factoral)"
   ]
  },
  {
   "cell_type": "code",
   "execution_count": 5,
   "metadata": {},
   "outputs": [
    {
     "name": "stdout",
     "output_type": "stream",
     "text": [
      "24\n"
     ]
    }
   ],
   "source": [
    "n=4\n",
    "factorial = 1\n",
    "while n >= 1:\n",
    "    factorial *= n\n",
    "    n -= 1\n",
    "    \n",
    "print(factorial)"
   ]
  },
  {
   "cell_type": "code",
   "execution_count": 1,
   "metadata": {},
   "outputs": [],
   "source": [
    "from gtts import gTTS\n",
    "import os\n",
    "\n",
    "countdown = 10\n",
    "while countdown >= 0:\n",
    "    tts = gTTS(text=str(countdown), lang='en')\n",
    "    tts.save(\"output.mp3\")\n",
    "    os.system(\"afplay output.mp3\")\n",
    "    countdown -= 1\n",
    "tts = gTTS(text=\"Happy new year\", lang='en')\n",
    "tts.save(\"output.mp3\")\n",
    "os.system(\"afplay output.mp3\")\n",
    "countdown -= 1"
   ]
  },
  {
   "cell_type": "code",
   "execution_count": 1,
   "metadata": {},
   "outputs": [
    {
     "name": "stdout",
     "output_type": "stream",
     "text": [
      "Seconds = 8s\n",
      "Seconds = 7s\n",
      "Seconds = 6s\n",
      "Seconds = 5s\n",
      "Seconds = 4s\n",
      "Seconds = 3s\n",
      "Seconds = 2s\n",
      "Seconds = 1s\n",
      "Seconds = 0s\n"
     ]
    }
   ],
   "source": [
    "import time\n",
    "import os\n",
    "\n",
    "seconds = 8\n",
    "\n",
    "while seconds >= 0:\n",
    "    os.system(\"cls\")\n",
    "    print(f\"Seconds = {seconds}s\")\n",
    "    seconds -= 1\n",
    "    time.sleep(1)"
   ]
  },
  {
   "cell_type": "code",
   "execution_count": null,
   "metadata": {},
   "outputs": [],
   "source": []
  }
 ],
 "metadata": {
  "kernelspec": {
   "display_name": "Python 3",
   "language": "python",
   "name": "python3"
  },
  "language_info": {
   "codemirror_mode": {
    "name": "ipython",
    "version": 3
   },
   "file_extension": ".py",
   "mimetype": "text/x-python",
   "name": "python",
   "nbconvert_exporter": "python",
   "pygments_lexer": "ipython3",
   "version": "3.12.4"
  }
 },
 "nbformat": 4,
 "nbformat_minor": 2
}
