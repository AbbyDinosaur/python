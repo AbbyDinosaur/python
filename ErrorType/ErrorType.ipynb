{
 "cells": [
  {
   "cell_type": "code",
   "execution_count": 1,
   "metadata": {},
   "outputs": [
    {
     "name": "stdout",
     "output_type": "stream",
     "text": [
      "Error value type\n"
     ]
    }
   ],
   "source": [
    "# Execption Handle\n",
    "try:\n",
    "    x = 20 + '20'\n",
    "except TypeError:\n",
    "    print(\"Error value type\")"
   ]
  },
  {
   "cell_type": "code",
   "execution_count": 1,
   "metadata": {},
   "outputs": [
    {
     "name": "stdout",
     "output_type": "stream",
     "text": [
      "Wrong Value.....\n"
     ]
    }
   ],
   "source": [
    "try:\n",
    "    number = int(input(\"Enter a number : \"))\n",
    "    print(number)\n",
    "except ValueError:\n",
    "    print(\"Wrong Value.....\")"
   ]
  },
  {
   "cell_type": "code",
   "execution_count": 3,
   "metadata": {},
   "outputs": [
    {
     "name": "stdout",
     "output_type": "stream",
     "text": [
      "Wrong Value.....\n",
      "Wrong Value.....\n",
      "25\n"
     ]
    }
   ],
   "source": [
    "# Wrong input not number\n",
    "while True:\n",
    "    try:\n",
    "        number = int(input(\"Enter a number : \"))\n",
    "        print(number)\n",
    "        break\n",
    "    except ValueError:\n",
    "        print(\"Wrong Value.....\")"
   ]
  },
  {
   "cell_type": "code",
   "execution_count": 4,
   "metadata": {},
   "outputs": [
    {
     "name": "stdout",
     "output_type": "stream",
     "text": [
      "Wrong Value.....invalid literal for int() with base 10: 'ghjk'\n",
      "52\n"
     ]
    }
   ],
   "source": [
    "while True:\n",
    "    try:\n",
    "        number = int(input(\"Enter a number : \"))\n",
    "        print(number)\n",
    "        break\n",
    "    except ValueError as verror:\n",
    "        print(f\"Wrong Value.....{verror}\")"
   ]
  },
  {
   "cell_type": "code",
   "execution_count": 2,
   "metadata": {},
   "outputs": [
    {
     "name": "stdout",
     "output_type": "stream",
     "text": [
      "Wrong Value.....invalid literal for int() with base 10: 'dzffgh'\n",
      "Wrong Value.....Value can't be negative number.\n",
      "Wrong Value.....Value can't be negative number.\n",
      "5\n"
     ]
    }
   ],
   "source": [
    "while True:\n",
    "    try:\n",
    "        number = int(input(\"Enter a number : \"))\n",
    "        if number < 0:\n",
    "            raise ValueError(\"Value can't be negative number.\")\n",
    "        print(number)\n",
    "        break\n",
    "    except ValueError as verror:\n",
    "        print(f\"Wrong Value.....{verror}\")"
   ]
  }
 ],
 "metadata": {
  "kernelspec": {
   "display_name": "Python 3",
   "language": "python",
   "name": "python3"
  },
  "language_info": {
   "codemirror_mode": {
    "name": "ipython",
    "version": 3
   },
   "file_extension": ".py",
   "mimetype": "text/x-python",
   "name": "python",
   "nbconvert_exporter": "python",
   "pygments_lexer": "ipython3",
   "version": "3.12.4"
  }
 },
 "nbformat": 4,
 "nbformat_minor": 2
}
