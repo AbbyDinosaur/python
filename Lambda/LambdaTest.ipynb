{
 "cells": [
  {
   "cell_type": "code",
   "execution_count": 1,
   "metadata": {},
   "outputs": [
    {
     "name": "stdout",
     "output_type": "stream",
     "text": [
      "[2, 4, 6, 8, 10, 12, 14, 16, 18, 20, 22, 24, 26, 28, 30, 32, 34, 36, 38, 40, 42, 44, 46, 48, 50, 52, 54, 56, 58, 60, 62, 64, 66, 68, 70, 72, 74, 76, 78, 80, 82, 84, 86, 88, 90, 92, 94, 96, 98, 100]\n"
     ]
    }
   ],
   "source": [
    "my_list = list(filter(lambda x: x % 2 == 0, range(1, 101)))\n",
    "\n",
    "print(my_list)"
   ]
  },
  {
   "cell_type": "code",
   "execution_count": 2,
   "metadata": {},
   "outputs": [
    {
     "name": "stdout",
     "output_type": "stream",
     "text": [
      "45\n"
     ]
    }
   ],
   "source": [
    "add = lambda x: x + 5\n",
    "\n",
    "print(add(40))"
   ]
  },
  {
   "cell_type": "code",
   "execution_count": 3,
   "metadata": {},
   "outputs": [
    {
     "name": "stdout",
     "output_type": "stream",
     "text": [
      "2 is positive number: True\n"
     ]
    }
   ],
   "source": [
    "is_pos = lambda a: a >= 0\n",
    "\n",
    "print(f\"2 is positive number: {is_pos(2)}\")"
   ]
  },
  {
   "cell_type": "code",
   "execution_count": 4,
   "metadata": {},
   "outputs": [
    {
     "name": "stdout",
     "output_type": "stream",
     "text": [
      "[False, True, False, False, False, False, False, False, False, False]\n"
     ]
    }
   ],
   "source": [
    "_pow = lambda a: a == 2\n",
    "\n",
    "pow_list = [_pow(i) for i in range (1, 11)]\n",
    "\n",
    "print(pow_list)"
   ]
  },
  {
   "cell_type": "code",
   "execution_count": 6,
   "metadata": {},
   "outputs": [
    {
     "name": "stdout",
     "output_type": "stream",
     "text": [
      "True\n"
     ]
    }
   ],
   "source": [
    "def is_event_number(n):\n",
    "    return n % 2 == 0 \n",
    "\n",
    "is_event_number = lambda a: a % 2 == 0\n",
    "print(is_event_number(20))"
   ]
  },
  {
   "cell_type": "code",
   "execution_count": 2,
   "metadata": {},
   "outputs": [
    {
     "name": "stdout",
     "output_type": "stream",
     "text": [
      "HNJZXWYRGL\n"
     ]
    }
   ],
   "source": [
    "import random \n",
    "\n",
    "letters = []\n",
    "\n",
    "for i in range(65, 91):\n",
    "    letters.append(chr(i))\n",
    "    \n",
    "random_char = []\n",
    "\n",
    "for _ in range(10):\n",
    "    random_char.append(letters[random.randint(0,25)])\n",
    "    \n",
    "password = ''.join(random_char)\n",
    "\n",
    "print(password)"
   ]
  }
 ],
 "metadata": {
  "kernelspec": {
   "display_name": "Python 3",
   "language": "python",
   "name": "python3"
  },
  "language_info": {
   "codemirror_mode": {
    "name": "ipython",
    "version": 3
   },
   "file_extension": ".py",
   "mimetype": "text/x-python",
   "name": "python",
   "nbconvert_exporter": "python",
   "pygments_lexer": "ipython3",
   "version": "3.12.4"
  }
 },
 "nbformat": 4,
 "nbformat_minor": 2
}
